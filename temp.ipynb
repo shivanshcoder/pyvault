{
    "cells": [
        {
            "cell_type": "code",
            "execution_count": 6,
            "source": [
                "import base64\n",
                "import json\n",
                "import os\n",
                "from base64 import b64encode,b64decode\n",
                "\n",
                "from cryptography.hazmat.primitives import hashes\n",
                "from cryptography.hazmat.primitives.kdf.pbkdf2 import PBKDF2HMAC"
            ],
            "outputs": [],
            "metadata": {}
        },
        {
            "cell_type": "code",
            "execution_count": 7,
            "source": [
                "try:\n",
                "    with open(\"config.json\", \"r\") as file:\n",
                "        config = json.loads(file.read())\n",
                "except:\n",
                "    config = {}"
            ],
            "outputs": [],
            "metadata": {}
        },
        {
            "cell_type": "code",
            "execution_count": 11,
            "source": [
                "ur = os.urandom(16)\n",
                "ur"
            ],
            "outputs": [
                {
                    "output_type": "execute_result",
                    "data": {
                        "text/plain": [
                            "b'1\\x04Kl\\xd5\\x99\\x17M\\xe0\\xe4\\xee\\x98U\\xa6\\x889'"
                        ]
                    },
                    "metadata": {},
                    "execution_count": 11
                }
            ],
            "metadata": {}
        },
        {
            "cell_type": "code",
            "execution_count": 22,
            "source": [
                "\n",
                "out = b64encode(ur)\n",
                "config['salt'] = out.decode('utf-8')\n",
                "\n",
                "\n",
                "def write_to_file():\n",
                "    copy_config = config['']"
            ],
            "outputs": [
                {
                    "output_type": "execute_result",
                    "data": {
                        "text/plain": [
                            "{'salt': 'MQRLbNWZF03g5O6YVaaIOQ=='}"
                        ]
                    },
                    "metadata": {},
                    "execution_count": 22
                }
            ],
            "metadata": {}
        }
    ],
    "metadata": {
        "orig_nbformat": 4,
        "language_info": {
            "name": "python",
            "version": "3.8.10",
            "mimetype": "text/x-python",
            "codemirror_mode": {
                "name": "ipython",
                "version": 3
            },
            "pygments_lexer": "ipython3",
            "nbconvert_exporter": "python",
            "file_extension": ".py"
        },
        "kernelspec": {
            "name": "python3",
            "display_name": "Python 3.8.10 64-bit ('.venv': venv)"
        },
        "interpreter": {
            "hash": "152c6c615c94725a9a9ae51aab19afff51419aa131b43fdf7140dc357f3e9145"
        }
    },
    "nbformat": 4,
    "nbformat_minor": 2
}