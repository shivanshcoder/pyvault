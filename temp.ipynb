{
    "cells": [
        {
            "cell_type": "code",
            "execution_count": 1,
            "source": [
                "import base64\r\n",
                "import json\r\n",
                "import os\r\n",
                "from base64 import b64encode,b64decode\r\n",
                "\r\n",
                "from cryptography.hazmat.primitives import hashes\r\n",
                "from cryptography.hazmat.primitives.kdf.pbkdf2 import PBKDF2HMAC"
            ],
            "outputs": [],
            "metadata": {}
        },
        {
            "cell_type": "code",
            "execution_count": 3,
            "source": [
                "import base64\r\n",
                "import json\r\n",
                "import os\r\n",
                "import threading\r\n",
                "from base64 import b64encode,b64decode\r\n",
                "\r\n",
                "from prompt_toolkit import prompt\r\n",
                "from prompt_toolkit.filters import Condition\r\n",
                "from prompt_toolkit.key_binding import KeyBindings\r\n",
                "\r\n",
                "from prompt_toolkit.validation import Validator\r\n",
                "from prompt_toolkit.completion import PathCompleter\r\n",
                " \r\n",
                "from cryptography.hazmat.primitives import hashes\r\n",
                "from cryptography.hazmat.primitives.kdf.pbkdf2 import PBKDF2HMAC\r\n",
                "from cryptography.fernet import Fernet, InvalidToken\r\n"
            ],
            "outputs": [],
            "metadata": {}
        },
        {
            "cell_type": "code",
            "execution_count": 5,
            "source": [
                "# Returns a string representation of a salt\r\n",
                "def generate_salt(size=16):\r\n",
                "    return b64encode(os.urandom(size)).decode()\r\n",
                "\r\n",
                "def create_key(pass_phrase, salt=generate_salt()):\r\n",
                "    salt =  b64decode(salt)\r\n",
                "    # Taken from the website itse\r\n",
                "    # https://cryptography.io/en/latest/fernet/#using-passwords-with-fernet\r\n",
                "    kdf = PBKDF2HMAC(\r\n",
                "        algorithm=hashes.SHA256(),\r\n",
                "        length=32,\r\n",
                "        salt=salt,\r\n",
                "        iterations=10000\r\n",
                "    )\r\n",
                "\r\n",
                "    key = base64.urlsafe_b64encode(kdf.derive(pass_phrase.encode()))\r\n",
                "\r\n",
                "    return key  \r\n",
                "\r\n",
                "\r\n",
                "def encrypt(data, pass_phrase, salt=generate_salt()):\r\n",
                "    pass\r\n",
                "\r\n",
                "\r\n",
                "class Crypto:\r\n",
                "\r\n",
                "    \r\n",
                "    def __init__(self, pass_phrase, data, salt=generate_salt()):\r\n",
                "        \"\"\"initializes the crypto class\r\n",
                "\r\n",
                "        Args:\r\n",
                "            pass_phrase (str): the password for encrypting or decrypting\r\n",
                "            data (str): the data we want to decrypt or encrypt\r\n",
                "            salt (str, optional): string representation of a salt we want to use for creating key. Defaults to generate_salt().\r\n",
                "        \"\"\"\r\n",
                "        self.data = str(data)\r\n",
                "        self.salt = salt\r\n",
                "        self.pass_phrase = pass_phrase\r\n",
                "        \r\n",
                "        # self.encrypt_status = False\r\n",
                "\r\n",
                "        self.key = self.create_key()\r\n",
                "\r\n",
                "\r\n",
                "    def create_key(self):\r\n",
                "        \"\"\"[summary]\r\n",
                "\r\n",
                "        Returns:\r\n",
                "            [type]: [description]\r\n",
                "        \"\"\"\r\n",
                "        \r\n",
                "        # Taken from the website itse\r\n",
                "        # https://cryptography.io/en/latest/fernet/#using-passwords-with-fernet\r\n",
                "        kdf = PBKDF2HMAC(\r\n",
                "            algorithm=hashes.SHA256(),\r\n",
                "            length=32,\r\n",
                "            salt=b64decode(self.salt),\r\n",
                "            iterations=10000\r\n",
                "        )\r\n",
                "\r\n",
                "        key = base64.urlsafe_b64encode(kdf.derive(self.pass_phrase.encode()))\r\n",
                "\r\n",
                "        return key    \r\n",
                "\r\n",
                "    def encrypt(self):\r\n",
                "        # if self.encrypt_status == True:\r\n",
                "        #     return\r\n",
                "\r\n",
                "        f = Fernet(self.key)\r\n",
                "\r\n",
                "        self.data = f.encrypt(self.data.encode()).decode()\r\n",
                "        return self\r\n",
                "\r\n",
                "        # self.encrypt_status = True\r\n",
                "    def decrypt(self):\r\n",
                "        \"\"\"[summary]\r\n",
                "\r\n",
                "        Returns:\r\n",
                "            [type]: [description]\r\n",
                "        \"\"\"\r\n",
                "        # if self.encrypt_status == False:\r\n",
                "        #     return\r\n",
                "\r\n",
                "        f = Fernet(self.key)\r\n",
                "\r\n",
                "        self.data = f.decrypt(self.data.encode()).decode()\r\n",
                "        # self.encrypt_status = False\r\n",
                "        return self\r\n",
                "\r\n",
                "    def __str__(self):\r\n",
                "        return json.dumps(self.to_dict())\r\n",
                "\r\n",
                "    def to_dict(self):\r\n",
                "        return {\r\n",
                "            'salt':self.salt,\r\n",
                "            'data':self.data\r\n",
                "        }\r\n",
                "  "
            ],
            "outputs": [],
            "metadata": {}
        },
        {
            "cell_type": "code",
            "execution_count": 6,
            "source": [
                "passwd = \"MYpass\""
            ],
            "outputs": [],
            "metadata": {}
        },
        {
            "cell_type": "code",
            "execution_count": 54,
            "source": [
                "c.encrypt()\r\n",
                "ssc = str(c)"
            ],
            "outputs": [],
            "metadata": {}
        },
        {
            "cell_type": "code",
            "execution_count": 57,
            "source": [
                "str(c)"
            ],
            "outputs": [
                {
                    "output_type": "execute_result",
                    "data": {
                        "text/plain": [
                            "'{\"salt\": \"sajQTxfQPrr+CtGHKqNIOA==\", \"data\": \"gAAAAABhGkYvBbNXLayi3T-om9xhQVKdHz2bw3N3iDQi3UvRQy1AOrsJXvaY2_8sfKvvldpVJmYFJLD8IAUjZS7TNzH8WRMOww==\"}'"
                        ]
                    },
                    "metadata": {},
                    "execution_count": 57
                }
            ],
            "metadata": {}
        },
        {
            "cell_type": "code",
            "execution_count": 58,
            "source": [
                "s = json.loads(ssc)\r\n",
                "cc = crypto(\"ABCD\", **s)\r\n",
                "cc.decrypt()\r\n",
                "cc.data"
            ],
            "outputs": [
                {
                    "output_type": "execute_result",
                    "data": {
                        "text/plain": [
                            "'SECRET MESSAGE'"
                        ]
                    },
                    "metadata": {},
                    "execution_count": 58
                }
            ],
            "metadata": {}
        },
        {
            "cell_type": "code",
            "execution_count": 22,
            "source": [
                "mydict"
            ],
            "outputs": [
                {
                    "output_type": "execute_result",
                    "data": {
                        "text/plain": [
                            "{'user1': '{\"salt\": \"TRyAoec+UMMyIwWZe9pGFA==\", \"data\": \"gAAAAABhG1-_uv7Ua_mSd86AIw51y4f0MVcDa-ySo4oEfSQXnYqDzGyefkxLIB-MU_KkOd6MTWkOtKNlnWC-7I2kILjaFOMnEw==\"}',\n",
                            " 'user2': '{\"salt\": \"TRyAoec+UMMyIwWZe9pGFA==\", \"data\": \"gAAAAABhG1-_S97ArIQHg9ZqJPM_3rqrxst949JqtL-LqOO5M9J1GlHHwNhW8zOrgGXmHbU0EYxvraouk2hTbTtEbyF40sJTXQ==\"}',\n",
                            " 'user3': '{\"salt\": \"TRyAoec+UMMyIwWZe9pGFA==\", \"data\": \"gAAAAABhG1-_gSru1Jpezdy3bALWjCmhtAldbpvdZHxY-tAEouRauH3HLuFt5A7ob3xLMj5HP7h0c5RFhkq8XF567tYJC56btA==\"}'}"
                        ]
                    },
                    "metadata": {},
                    "execution_count": 22
                }
            ],
            "metadata": {}
        },
        {
            "cell_type": "code",
            "execution_count": 8,
            "source": [
                "passwd = \"MYpass\"\r\n",
                "\r\n",
                "mydict={\r\n",
                "    'user1': str(Crypto(passwd, \"PASS1\").encrypt()),\r\n",
                "    'user2': str(Crypto(passwd, \"PASS2\").encrypt()),\r\n",
                "    'user3': str(Crypto(passwd, \"PASS3\").encrypt())\r\n",
                "}"
            ],
            "outputs": [],
            "metadata": {}
        },
        {
            "cell_type": "code",
            "execution_count": 9,
            "source": [
                "mydict['user1']"
            ],
            "outputs": [
                {
                    "output_type": "execute_result",
                    "data": {
                        "text/plain": [
                            "'{\"salt\": \"TRyAoec+UMMyIwWZe9pGFA==\", \"data\": \"gAAAAABhG1-_uv7Ua_mSd86AIw51y4f0MVcDa-ySo4oEfSQXnYqDzGyefkxLIB-MU_KkOd6MTWkOtKNlnWC-7I2kILjaFOMnEw==\"}'"
                        ]
                    },
                    "metadata": {},
                    "execution_count": 9
                }
            ],
            "metadata": {}
        },
        {
            "cell_type": "code",
            "execution_count": 10,
            "source": [
                "Crypto(passwd, **json.loads(mydict['user2'])).decrypt().data"
            ],
            "outputs": [
                {
                    "output_type": "execute_result",
                    "data": {
                        "text/plain": [
                            "'PASS2'"
                        ]
                    },
                    "metadata": {},
                    "execution_count": 10
                }
            ],
            "metadata": {}
        },
        {
            "cell_type": "code",
            "execution_count": 11,
            "source": [
                "lastf = Crypto(passwd, json.dumps(mydict)).encrypt()\r\n",
                "str(lastf)"
            ],
            "outputs": [
                {
                    "output_type": "execute_result",
                    "data": {
                        "text/plain": [
                            "'{\"salt\": \"TRyAoec+UMMyIwWZe9pGFA==\", \"data\": \"gAAAAABhG1_EGuJ-3aBHuAi1TDzhH9lplWOvq27xdmNN3cKAJ0OaKjAhpb1cOqLlj33obUupe5urztBnpsaTmti-9pLtI_hZt2fSm7jrO_qjbQo_itMPXryts8SKM1rk8necYcZkUfPP4uLAEGXUZz6lj18OeX0ueO8J9iwNGtTaJ1KZTP3TavZfv6Fcv39SSUshjpvagsERx5--oN839sYAPbn7HzzXlWiC7yy2hsLlctBV0OjAmiAb5Fm-EsIVVTY2KxmllwSCzMBuS-69Fc_zn6cLjeDlYrSBjNPe5DxJMaZ9HFaiMyPEi6nTrIYFuGAGnjVGfEkgeGGZzA-8Ph_86JtX99b7SklcLp6_mcdNdpwdTy5mggrMMeTBWAtUouW8XaQUwEOAek255tQJfMzyc3EaxH9pKriFp-G8NsgjzFRKfwEsc-WN2tcxiDo0CQGNfdczGwu5jGEVSTTNnXe9aTALO-TWPH2M-ouNdnIHO3jR3h7Rcx3DIFq1fPk56SjDI65H2Vs5k2NeqolmSB732z6tqqy9VtBun-cb9Sa8CtEaooe6E1rSOjbhOq7Bt2BVBG6C8jCm51xd4ciVOlFPXhn2Xklnlap7ccng7eUuODxFGEn02eHTUPPFp0SgdM9dOwwdIBL7kp4nZzyd9v0g9TD0t-9T4WZ4kz1D9C3G_ggWPySJiJwb2OcYLtyQ6iFUvqstCLSuedP8sSMdZOeDE-krzrsvqi6HsDPKdTk8WeRuDZFzxDM=\"}'"
                        ]
                    },
                    "metadata": {},
                    "execution_count": 11
                }
            ],
            "metadata": {}
        },
        {
            "cell_type": "code",
            "execution_count": 25,
            "source": [
                "with open(\"vault.json\", \"w\") as f:\r\n",
                "    f.write(str(lastf))"
            ],
            "outputs": [],
            "metadata": {}
        },
        {
            "cell_type": "code",
            "execution_count": 12,
            "source": [
                "firstf = Crypto(passwd, **json.loads(str(lastf))).decrypt()\r\n",
                "(firstf.to_dict())"
            ],
            "outputs": [
                {
                    "output_type": "execute_result",
                    "data": {
                        "text/plain": [
                            "{'salt': 'TRyAoec+UMMyIwWZe9pGFA==',\n",
                            " 'data': '{\"user1\": \"{\\\\\"salt\\\\\": \\\\\"TRyAoec+UMMyIwWZe9pGFA==\\\\\", \\\\\"data\\\\\": \\\\\"gAAAAABhG1-_uv7Ua_mSd86AIw51y4f0MVcDa-ySo4oEfSQXnYqDzGyefkxLIB-MU_KkOd6MTWkOtKNlnWC-7I2kILjaFOMnEw==\\\\\"}\", \"user2\": \"{\\\\\"salt\\\\\": \\\\\"TRyAoec+UMMyIwWZe9pGFA==\\\\\", \\\\\"data\\\\\": \\\\\"gAAAAABhG1-_S97ArIQHg9ZqJPM_3rqrxst949JqtL-LqOO5M9J1GlHHwNhW8zOrgGXmHbU0EYxvraouk2hTbTtEbyF40sJTXQ==\\\\\"}\", \"user3\": \"{\\\\\"salt\\\\\": \\\\\"TRyAoec+UMMyIwWZe9pGFA==\\\\\", \\\\\"data\\\\\": \\\\\"gAAAAABhG1-_gSru1Jpezdy3bALWjCmhtAldbpvdZHxY-tAEouRauH3HLuFt5A7ob3xLMj5HP7h0c5RFhkq8XF567tYJC56btA==\\\\\"}\"}'}"
                        ]
                    },
                    "metadata": {},
                    "execution_count": 12
                }
            ],
            "metadata": {}
        },
        {
            "cell_type": "code",
            "execution_count": 18,
            "source": [
                "ag = json.loads(firstf.to_dict()['data'])\r\n",
                "ag"
            ],
            "outputs": [
                {
                    "output_type": "execute_result",
                    "data": {
                        "text/plain": [
                            "{'user1': '{\"salt\": \"TRyAoec+UMMyIwWZe9pGFA==\", \"data\": \"gAAAAABhG1-_uv7Ua_mSd86AIw51y4f0MVcDa-ySo4oEfSQXnYqDzGyefkxLIB-MU_KkOd6MTWkOtKNlnWC-7I2kILjaFOMnEw==\"}',\n",
                            " 'user2': '{\"salt\": \"TRyAoec+UMMyIwWZe9pGFA==\", \"data\": \"gAAAAABhG1-_S97ArIQHg9ZqJPM_3rqrxst949JqtL-LqOO5M9J1GlHHwNhW8zOrgGXmHbU0EYxvraouk2hTbTtEbyF40sJTXQ==\"}',\n",
                            " 'user3': '{\"salt\": \"TRyAoec+UMMyIwWZe9pGFA==\", \"data\": \"gAAAAABhG1-_gSru1Jpezdy3bALWjCmhtAldbpvdZHxY-tAEouRauH3HLuFt5A7ob3xLMj5HP7h0c5RFhkq8XF567tYJC56btA==\"}'}"
                        ]
                    },
                    "metadata": {},
                    "execution_count": 18
                }
            ],
            "metadata": {}
        },
        {
            "cell_type": "code",
            "execution_count": 21,
            "source": [
                "ag['user3']"
            ],
            "outputs": [
                {
                    "output_type": "execute_result",
                    "data": {
                        "text/plain": [
                            "'{\"salt\": \"TRyAoec+UMMyIwWZe9pGFA==\", \"data\": \"gAAAAABhG1-_gSru1Jpezdy3bALWjCmhtAldbpvdZHxY-tAEouRauH3HLuFt5A7ob3xLMj5HP7h0c5RFhkq8XF567tYJC56btA==\"}'"
                        ]
                    },
                    "metadata": {},
                    "execution_count": 21
                }
            ],
            "metadata": {}
        },
        {
            "cell_type": "code",
            "execution_count": 34,
            "source": [
                "the_dict = {\r\n",
                "    \"google\": {\r\n",
                "        \"mathurshiva901\": {\r\n",
                "            \"password\": {\r\n",
                "                \"pass\": \"pass_encrypted\",\r\n",
                "                \"salt\": \"unique_salt\"\r\n",
                "            }\r\n",
                "        },\r\n",
                "        \"mathurshiva90b\": {\r\n",
                "            \"password\": {\r\n",
                "                \"pass\": \"pass_encrypted\",\r\n",
                "                \"salt\": \"unique_salt\"\r\n",
                "            }\r\n",
                "        },\r\n",
                "        \"mathurshiva90c\": {\r\n",
                "            \"password\": {\r\n",
                "                \"pass\": \"pass_encrypted\",\r\n",
                "                \"salt\": \"unique_salt\"\r\n",
                "            }\r\n",
                "        },\r\n",
                "        \"mathurshiva90d\": {\r\n",
                "            \"password\": {\r\n",
                "                \"pass\": \"pass_encrypted\",\r\n",
                "                \"salt\": \"unique_salt\"\r\n",
                "            }\r\n",
                "        }\r\n",
                "    },  \r\n",
                "    \"orkut\": {\r\n",
                "        \"mathurshiva901\": {\r\n",
                "            \"password\": {\r\n",
                "                \"pass\": \"pass_encrypted\",\r\n",
                "                \"salt\": \"unique_salt\"\r\n",
                "            }\r\n",
                "        },\r\n",
                "        \"mathurshiva90b\": {\r\n",
                "            \"password\": {\r\n",
                "                \"pass\": \"pass_encrypted\",\r\n",
                "                \"salt\": \"unique_salt\"\r\n",
                "            }\r\n",
                "        },\r\n",
                "        \"mathurshiva90c\": {\r\n",
                "            \"password\": {\r\n",
                "                \"pass\": \"pass_encrypted\",\r\n",
                "                \"salt\": \"unique_salt\"\r\n",
                "            }\r\n",
                "        },\r\n",
                "        \"mathurshiva90d\": {\r\n",
                "            \"password\": {\r\n",
                "                \"pass\": \"pass_encrypted\",\r\n",
                "                \"salt\": \"unique_salt\"\r\n",
                "            }\r\n",
                "        }\r\n",
                "    }\r\n",
                "}\r\n",
                "\r\n",
                "dictt = {}\r\n",
                "for keys in the_dict:\r\n",
                "    dictt[keys] = {}\r\n",
                "    for keys2 in the_dict[keys]:\r\n",
                "        dictt[keys][keys2] = {}\r\n",
                "        for keys3 in the_dict[keys][keys2]:\r\n",
                "            dictt[keys][keys2][keys3] = None\r\n",
                "\r\n",
                "            \r\n",
                "from prompt_toolkit.completion import NestedCompleter\r\n",
                "\r\n",
                "out = prompt(\">\", completer= NestedCompleter.from_nested_dict(dictt))\r\n",
                "out"
            ],
            "outputs": [
                {
                    "output_type": "execute_result",
                    "data": {
                        "text/plain": [
                            "dict_keys(['google', 'orkut'])"
                        ]
                    },
                    "metadata": {},
                    "execution_count": 34
                }
            ],
            "metadata": {}
        },
        {
            "cell_type": "code",
            "execution_count": 38,
            "source": [],
            "outputs": [],
            "metadata": {}
        },
        {
            "cell_type": "code",
            "execution_count": 39,
            "source": [
                "dictt"
            ],
            "outputs": [
                {
                    "output_type": "execute_result",
                    "data": {
                        "text/plain": [
                            "{'google': {'mathurshiva901': {'password': None},\n",
                            "  'mathurshiva90b': {'password': None},\n",
                            "  'mathurshiva90c': {'password': None},\n",
                            "  'mathurshiva90d': {'password': None}},\n",
                            " 'orkut': {'mathurshiva901': {'password': None},\n",
                            "  'mathurshiva90b': {'password': None},\n",
                            "  'mathurshiva90c': {'password': None},\n",
                            "  'mathurshiva90d': {'password': None}}}"
                        ]
                    },
                    "metadata": {},
                    "execution_count": 39
                }
            ],
            "metadata": {}
        },
        {
            "cell_type": "code",
            "execution_count": 42,
            "source": [],
            "outputs": [
                {
                    "output_type": "error",
                    "ename": "NoConsoleScreenBufferError",
                    "evalue": "Found xterm-color, while expecting a Windows console. Maybe try to run this program using \"winpty\" or run it in cmd.exe instead. Or otherwise, in case of Cygwin, use the Python executable that is compiled for Cygwin.",
                    "traceback": [
                        "\u001b[1;31m---------------------------------------------------------------------------\u001b[0m",
                        "\u001b[1;31mNoConsoleScreenBufferError\u001b[0m                Traceback (most recent call last)",
                        "\u001b[1;32m~\\AppData\\Local\\Temp/ipykernel_15072/1779867981.py\u001b[0m in \u001b[0;36m<module>\u001b[1;34m\u001b[0m\n\u001b[0;32m      1\u001b[0m \u001b[1;32mfrom\u001b[0m \u001b[0mprompt_toolkit\u001b[0m\u001b[1;33m.\u001b[0m\u001b[0mcompletion\u001b[0m \u001b[1;32mimport\u001b[0m \u001b[0mNestedCompleter\u001b[0m\u001b[1;33m\u001b[0m\u001b[1;33m\u001b[0m\u001b[0m\n\u001b[0;32m      2\u001b[0m \u001b[1;33m\u001b[0m\u001b[0m\n\u001b[1;32m----> 3\u001b[1;33m \u001b[0mout\u001b[0m \u001b[1;33m=\u001b[0m \u001b[0mprompt\u001b[0m\u001b[1;33m(\u001b[0m\u001b[1;34m\">\"\u001b[0m\u001b[1;33m,\u001b[0m \u001b[0mcompleter\u001b[0m\u001b[1;33m=\u001b[0m \u001b[0mNestedCompleter\u001b[0m\u001b[1;33m.\u001b[0m\u001b[0mfrom_nested_dict\u001b[0m\u001b[1;33m(\u001b[0m\u001b[0mdictt\u001b[0m\u001b[1;33m)\u001b[0m\u001b[1;33m)\u001b[0m\u001b[1;33m\u001b[0m\u001b[1;33m\u001b[0m\u001b[0m\n\u001b[0m\u001b[0;32m      4\u001b[0m \u001b[0mout\u001b[0m\u001b[1;33m\u001b[0m\u001b[1;33m\u001b[0m\u001b[0m\n",
                        "\u001b[1;32md:\\Code\\pyvault\\.venv\\lib\\site-packages\\prompt_toolkit\\shortcuts\\prompt.py\u001b[0m in \u001b[0;36mprompt\u001b[1;34m(message, history, editing_mode, refresh_interval, vi_mode, lexer, completer, complete_in_thread, is_password, key_bindings, bottom_toolbar, style, color_depth, include_default_pygments_style, style_transformation, swap_light_and_dark_colors, rprompt, multiline, prompt_continuation, wrap_lines, enable_history_search, search_ignore_case, complete_while_typing, validate_while_typing, complete_style, auto_suggest, validator, clipboard, mouse_support, input_processors, placeholder, reserve_space_for_menu, enable_system_prompt, enable_suspend, enable_open_in_editor, tempfile_suffix, tempfile, default, accept_default, pre_run)\u001b[0m\n\u001b[0;32m   1393\u001b[0m     \u001b[1;31m# The history is the only attribute that has to be passed to the\u001b[0m\u001b[1;33m\u001b[0m\u001b[1;33m\u001b[0m\u001b[1;33m\u001b[0m\u001b[0m\n\u001b[0;32m   1394\u001b[0m     \u001b[1;31m# `PromptSession`, it can't be passed into the `prompt()` method.\u001b[0m\u001b[1;33m\u001b[0m\u001b[1;33m\u001b[0m\u001b[1;33m\u001b[0m\u001b[0m\n\u001b[1;32m-> 1395\u001b[1;33m     \u001b[0msession\u001b[0m\u001b[1;33m:\u001b[0m \u001b[0mPromptSession\u001b[0m\u001b[1;33m[\u001b[0m\u001b[0mstr\u001b[0m\u001b[1;33m]\u001b[0m \u001b[1;33m=\u001b[0m \u001b[0mPromptSession\u001b[0m\u001b[1;33m(\u001b[0m\u001b[0mhistory\u001b[0m\u001b[1;33m=\u001b[0m\u001b[0mhistory\u001b[0m\u001b[1;33m)\u001b[0m\u001b[1;33m\u001b[0m\u001b[1;33m\u001b[0m\u001b[0m\n\u001b[0m\u001b[0;32m   1396\u001b[0m \u001b[1;33m\u001b[0m\u001b[0m\n\u001b[0;32m   1397\u001b[0m     return session.prompt(\n",
                        "\u001b[1;32md:\\Code\\pyvault\\.venv\\lib\\site-packages\\prompt_toolkit\\shortcuts\\prompt.py\u001b[0m in \u001b[0;36m__init__\u001b[1;34m(self, message, multiline, wrap_lines, is_password, vi_mode, editing_mode, complete_while_typing, validate_while_typing, enable_history_search, search_ignore_case, lexer, enable_system_prompt, enable_suspend, enable_open_in_editor, validator, completer, complete_in_thread, reserve_space_for_menu, complete_style, auto_suggest, style, style_transformation, swap_light_and_dark_colors, color_depth, include_default_pygments_style, history, clipboard, prompt_continuation, rprompt, bottom_toolbar, mouse_support, input_processors, placeholder, key_bindings, erase_when_done, tempfile_suffix, tempfile, refresh_interval, input, output)\u001b[0m\n\u001b[0;32m    466\u001b[0m         \u001b[0mself\u001b[0m\u001b[1;33m.\u001b[0m\u001b[0msearch_buffer\u001b[0m \u001b[1;33m=\u001b[0m \u001b[0mself\u001b[0m\u001b[1;33m.\u001b[0m\u001b[0m_create_search_buffer\u001b[0m\u001b[1;33m(\u001b[0m\u001b[1;33m)\u001b[0m\u001b[1;33m\u001b[0m\u001b[1;33m\u001b[0m\u001b[0m\n\u001b[0;32m    467\u001b[0m         \u001b[0mself\u001b[0m\u001b[1;33m.\u001b[0m\u001b[0mlayout\u001b[0m \u001b[1;33m=\u001b[0m \u001b[0mself\u001b[0m\u001b[1;33m.\u001b[0m\u001b[0m_create_layout\u001b[0m\u001b[1;33m(\u001b[0m\u001b[1;33m)\u001b[0m\u001b[1;33m\u001b[0m\u001b[1;33m\u001b[0m\u001b[0m\n\u001b[1;32m--> 468\u001b[1;33m         \u001b[0mself\u001b[0m\u001b[1;33m.\u001b[0m\u001b[0mapp\u001b[0m \u001b[1;33m=\u001b[0m \u001b[0mself\u001b[0m\u001b[1;33m.\u001b[0m\u001b[0m_create_application\u001b[0m\u001b[1;33m(\u001b[0m\u001b[0mediting_mode\u001b[0m\u001b[1;33m,\u001b[0m \u001b[0merase_when_done\u001b[0m\u001b[1;33m)\u001b[0m\u001b[1;33m\u001b[0m\u001b[1;33m\u001b[0m\u001b[0m\n\u001b[0m\u001b[0;32m    469\u001b[0m \u001b[1;33m\u001b[0m\u001b[0m\n\u001b[0;32m    470\u001b[0m     \u001b[1;32mdef\u001b[0m \u001b[0m_dyncond\u001b[0m\u001b[1;33m(\u001b[0m\u001b[0mself\u001b[0m\u001b[1;33m,\u001b[0m \u001b[0mattr_name\u001b[0m\u001b[1;33m:\u001b[0m \u001b[0mstr\u001b[0m\u001b[1;33m)\u001b[0m \u001b[1;33m->\u001b[0m \u001b[0mCondition\u001b[0m\u001b[1;33m:\u001b[0m\u001b[1;33m\u001b[0m\u001b[1;33m\u001b[0m\u001b[0m\n",
                        "\u001b[1;32md:\\Code\\pyvault\\.venv\\lib\\site-packages\\prompt_toolkit\\shortcuts\\prompt.py\u001b[0m in \u001b[0;36m_create_application\u001b[1;34m(self, editing_mode, erase_when_done)\u001b[0m\n\u001b[0;32m    717\u001b[0m \u001b[1;33m\u001b[0m\u001b[0m\n\u001b[0;32m    718\u001b[0m         \u001b[1;31m# Create application\u001b[0m\u001b[1;33m\u001b[0m\u001b[1;33m\u001b[0m\u001b[1;33m\u001b[0m\u001b[0m\n\u001b[1;32m--> 719\u001b[1;33m         application: Application[_T] = Application(\n\u001b[0m\u001b[0;32m    720\u001b[0m             \u001b[0mlayout\u001b[0m\u001b[1;33m=\u001b[0m\u001b[0mself\u001b[0m\u001b[1;33m.\u001b[0m\u001b[0mlayout\u001b[0m\u001b[1;33m,\u001b[0m\u001b[1;33m\u001b[0m\u001b[1;33m\u001b[0m\u001b[0m\n\u001b[0;32m    721\u001b[0m             \u001b[0mstyle\u001b[0m\u001b[1;33m=\u001b[0m\u001b[0mDynamicStyle\u001b[0m\u001b[1;33m(\u001b[0m\u001b[1;32mlambda\u001b[0m\u001b[1;33m:\u001b[0m \u001b[0mself\u001b[0m\u001b[1;33m.\u001b[0m\u001b[0mstyle\u001b[0m\u001b[1;33m)\u001b[0m\u001b[1;33m,\u001b[0m\u001b[1;33m\u001b[0m\u001b[1;33m\u001b[0m\u001b[0m\n",
                        "\u001b[1;32md:\\Code\\pyvault\\.venv\\lib\\site-packages\\prompt_toolkit\\application\\application.py\u001b[0m in \u001b[0;36m__init__\u001b[1;34m(self, layout, style, include_default_pygments_style, style_transformation, key_bindings, clipboard, full_screen, color_depth, mouse_support, enable_page_navigation_bindings, paste_mode, editing_mode, erase_when_done, reverse_vi_search_direction, min_redraw_interval, max_render_postpone_time, refresh_interval, terminal_size_polling_interval, on_reset, on_invalidate, before_render, after_render, input, output)\u001b[0m\n\u001b[0;32m    275\u001b[0m         \u001b[1;31m# I/O.\u001b[0m\u001b[1;33m\u001b[0m\u001b[1;33m\u001b[0m\u001b[1;33m\u001b[0m\u001b[0m\n\u001b[0;32m    276\u001b[0m         \u001b[0msession\u001b[0m \u001b[1;33m=\u001b[0m \u001b[0mget_app_session\u001b[0m\u001b[1;33m(\u001b[0m\u001b[1;33m)\u001b[0m\u001b[1;33m\u001b[0m\u001b[1;33m\u001b[0m\u001b[0m\n\u001b[1;32m--> 277\u001b[1;33m         \u001b[0mself\u001b[0m\u001b[1;33m.\u001b[0m\u001b[0moutput\u001b[0m \u001b[1;33m=\u001b[0m \u001b[0moutput\u001b[0m \u001b[1;32mor\u001b[0m \u001b[0msession\u001b[0m\u001b[1;33m.\u001b[0m\u001b[0moutput\u001b[0m\u001b[1;33m\u001b[0m\u001b[1;33m\u001b[0m\u001b[0m\n\u001b[0m\u001b[0;32m    278\u001b[0m         \u001b[0mself\u001b[0m\u001b[1;33m.\u001b[0m\u001b[0minput\u001b[0m \u001b[1;33m=\u001b[0m \u001b[0minput\u001b[0m \u001b[1;32mor\u001b[0m \u001b[0msession\u001b[0m\u001b[1;33m.\u001b[0m\u001b[0minput\u001b[0m\u001b[1;33m\u001b[0m\u001b[1;33m\u001b[0m\u001b[0m\n\u001b[0;32m    279\u001b[0m \u001b[1;33m\u001b[0m\u001b[0m\n",
                        "\u001b[1;32md:\\Code\\pyvault\\.venv\\lib\\site-packages\\prompt_toolkit\\application\\current.py\u001b[0m in \u001b[0;36moutput\u001b[1;34m(self)\u001b[0m\n\u001b[0;32m     68\u001b[0m             \u001b[1;32mfrom\u001b[0m \u001b[0mprompt_toolkit\u001b[0m\u001b[1;33m.\u001b[0m\u001b[0moutput\u001b[0m\u001b[1;33m.\u001b[0m\u001b[0mdefaults\u001b[0m \u001b[1;32mimport\u001b[0m \u001b[0mcreate_output\u001b[0m\u001b[1;33m\u001b[0m\u001b[1;33m\u001b[0m\u001b[0m\n\u001b[0;32m     69\u001b[0m \u001b[1;33m\u001b[0m\u001b[0m\n\u001b[1;32m---> 70\u001b[1;33m             \u001b[0mself\u001b[0m\u001b[1;33m.\u001b[0m\u001b[0m_output\u001b[0m \u001b[1;33m=\u001b[0m \u001b[0mcreate_output\u001b[0m\u001b[1;33m(\u001b[0m\u001b[1;33m)\u001b[0m\u001b[1;33m\u001b[0m\u001b[1;33m\u001b[0m\u001b[0m\n\u001b[0m\u001b[0;32m     71\u001b[0m         \u001b[1;32mreturn\u001b[0m \u001b[0mself\u001b[0m\u001b[1;33m.\u001b[0m\u001b[0m_output\u001b[0m\u001b[1;33m\u001b[0m\u001b[1;33m\u001b[0m\u001b[0m\n\u001b[0;32m     72\u001b[0m \u001b[1;33m\u001b[0m\u001b[0m\n",
                        "\u001b[1;32md:\\Code\\pyvault\\.venv\\lib\\site-packages\\prompt_toolkit\\output\\defaults.py\u001b[0m in \u001b[0;36mcreate_output\u001b[1;34m(stdout, always_prefer_tty)\u001b[0m\n\u001b[0;32m     71\u001b[0m             )\n\u001b[0;32m     72\u001b[0m         \u001b[1;32melse\u001b[0m\u001b[1;33m:\u001b[0m\u001b[1;33m\u001b[0m\u001b[1;33m\u001b[0m\u001b[0m\n\u001b[1;32m---> 73\u001b[1;33m             \u001b[1;32mreturn\u001b[0m \u001b[0mWin32Output\u001b[0m\u001b[1;33m(\u001b[0m\u001b[0mstdout\u001b[0m\u001b[1;33m,\u001b[0m \u001b[0mdefault_color_depth\u001b[0m\u001b[1;33m=\u001b[0m\u001b[0mcolor_depth_from_env\u001b[0m\u001b[1;33m)\u001b[0m\u001b[1;33m\u001b[0m\u001b[1;33m\u001b[0m\u001b[0m\n\u001b[0m\u001b[0;32m     74\u001b[0m     \u001b[1;32melse\u001b[0m\u001b[1;33m:\u001b[0m\u001b[1;33m\u001b[0m\u001b[1;33m\u001b[0m\u001b[0m\n\u001b[0;32m     75\u001b[0m         \u001b[1;32mfrom\u001b[0m \u001b[1;33m.\u001b[0m\u001b[0mvt100\u001b[0m \u001b[1;32mimport\u001b[0m \u001b[0mVt100_Output\u001b[0m\u001b[1;33m\u001b[0m\u001b[1;33m\u001b[0m\u001b[0m\n",
                        "\u001b[1;32md:\\Code\\pyvault\\.venv\\lib\\site-packages\\prompt_toolkit\\output\\win32.py\u001b[0m in \u001b[0;36m__init__\u001b[1;34m(self, stdout, use_complete_width, default_color_depth)\u001b[0m\n\u001b[0;32m    107\u001b[0m \u001b[1;33m\u001b[0m\u001b[0m\n\u001b[0;32m    108\u001b[0m         \u001b[1;31m# Remember the default console colors.\u001b[0m\u001b[1;33m\u001b[0m\u001b[1;33m\u001b[0m\u001b[1;33m\u001b[0m\u001b[0m\n\u001b[1;32m--> 109\u001b[1;33m         \u001b[0minfo\u001b[0m \u001b[1;33m=\u001b[0m \u001b[0mself\u001b[0m\u001b[1;33m.\u001b[0m\u001b[0mget_win32_screen_buffer_info\u001b[0m\u001b[1;33m(\u001b[0m\u001b[1;33m)\u001b[0m\u001b[1;33m\u001b[0m\u001b[1;33m\u001b[0m\u001b[0m\n\u001b[0m\u001b[0;32m    110\u001b[0m         \u001b[0mself\u001b[0m\u001b[1;33m.\u001b[0m\u001b[0mdefault_attrs\u001b[0m \u001b[1;33m=\u001b[0m \u001b[0minfo\u001b[0m\u001b[1;33m.\u001b[0m\u001b[0mwAttributes\u001b[0m \u001b[1;32mif\u001b[0m \u001b[0minfo\u001b[0m \u001b[1;32melse\u001b[0m \u001b[1;36m15\u001b[0m\u001b[1;33m\u001b[0m\u001b[1;33m\u001b[0m\u001b[0m\n\u001b[0;32m    111\u001b[0m \u001b[1;33m\u001b[0m\u001b[0m\n",
                        "\u001b[1;32md:\\Code\\pyvault\\.venv\\lib\\site-packages\\prompt_toolkit\\output\\win32.py\u001b[0m in \u001b[0;36mget_win32_screen_buffer_info\u001b[1;34m(self)\u001b[0m\n\u001b[0;32m    213\u001b[0m             \u001b[1;32mreturn\u001b[0m \u001b[0msbinfo\u001b[0m\u001b[1;33m\u001b[0m\u001b[1;33m\u001b[0m\u001b[0m\n\u001b[0;32m    214\u001b[0m         \u001b[1;32melse\u001b[0m\u001b[1;33m:\u001b[0m\u001b[1;33m\u001b[0m\u001b[1;33m\u001b[0m\u001b[0m\n\u001b[1;32m--> 215\u001b[1;33m             \u001b[1;32mraise\u001b[0m \u001b[0mNoConsoleScreenBufferError\u001b[0m\u001b[1;33m\u001b[0m\u001b[1;33m\u001b[0m\u001b[0m\n\u001b[0m\u001b[0;32m    216\u001b[0m \u001b[1;33m\u001b[0m\u001b[0m\n\u001b[0;32m    217\u001b[0m     \u001b[1;32mdef\u001b[0m \u001b[0mset_title\u001b[0m\u001b[1;33m(\u001b[0m\u001b[0mself\u001b[0m\u001b[1;33m,\u001b[0m \u001b[0mtitle\u001b[0m\u001b[1;33m:\u001b[0m \u001b[0mstr\u001b[0m\u001b[1;33m)\u001b[0m \u001b[1;33m->\u001b[0m \u001b[1;32mNone\u001b[0m\u001b[1;33m:\u001b[0m\u001b[1;33m\u001b[0m\u001b[1;33m\u001b[0m\u001b[0m\n",
                        "\u001b[1;31mNoConsoleScreenBufferError\u001b[0m: Found xterm-color, while expecting a Windows console. Maybe try to run this program using \"winpty\" or run it in cmd.exe instead. Or otherwise, in case of Cygwin, use the Python executable that is compiled for Cygwin."
                    ]
                }
            ],
            "metadata": {}
        }
    ],
    "metadata": {
        "orig_nbformat": 4,
        "language_info": {
            "name": "python",
            "version": "3.9.6",
            "mimetype": "text/x-python",
            "codemirror_mode": {
                "name": "ipython",
                "version": 3
            },
            "pygments_lexer": "ipython3",
            "nbconvert_exporter": "python",
            "file_extension": ".py"
        },
        "kernelspec": {
            "name": "python3",
            "display_name": "Python 3.9.6 64-bit ('.venv': venv)"
        },
        "interpreter": {
            "hash": "0835b28160292e87a5150cc2d62b3b338be8a14ddaf0e704f8d1f0acc542df99"
        }
    },
    "nbformat": 4,
    "nbformat_minor": 2
}